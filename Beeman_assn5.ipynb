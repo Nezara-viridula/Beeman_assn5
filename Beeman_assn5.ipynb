{
 "cells": [
  {
   "cell_type": "markdown",
   "metadata": {},
   "source": [
    "# Question 1. Who is eating turkey?"
   ]
  },
  {
   "cell_type": "code",
   "execution_count": 1,
   "metadata": {},
   "outputs": [
    {
     "name": "stdout",
     "output_type": "stream",
     "text": [
      "['Person\\tVegetarian\\n', 'Fred\\tNo\\n', 'Jamie\\tNo\\n', 'Shelly\\tYes\\n', 'Eileen\\tNo\\n', 'Willard\\tYes\\n', 'Mike\\tSometimes\\n', 'Anna\\tNo\\n', 'Marie\\tYes\\n', 'Marian\\tSometimes\\n', 'Jessica\\tNo\\n', 'Alan\\tNo\\n', 'Rebecca\\tNo\\n', 'Bonnie\\tNo\\n', 'Mark\\tNo\\n', 'Leslie\\tYes\\n', 'Rachel\\tNo\\n', 'Olivia\\tNo\\n', 'Chelsea\\tNo\\n']\n"
     ]
    }
   ],
   "source": [
    "#Q1:determining who is vegaterian\n",
    "filename = \"guest_list.txt\"\n",
    "with open(filename) as file_object:\n",
    "    contents = file_object.readlines()\n",
    "print(contents)"
   ]
  },
  {
   "cell_type": "code",
   "execution_count": 2,
   "metadata": {
    "scrolled": true
   },
   "outputs": [
    {
     "name": "stdout",
     "output_type": "stream",
     "text": [
      "Person\tVegetarian\n",
      "Fred\tNo\n",
      "Jamie\tNo\n",
      "Shelly\tYes\n",
      "Eileen\tNo\n",
      "Willard\tYes\n",
      "Mike\tSometimes\n",
      "Anna\tNo\n",
      "Marie\tYes\n",
      "Marian\tSometimes\n",
      "Jessica\tNo\n",
      "Alan\tNo\n",
      "Rebecca\tNo\n",
      "Bonnie\tNo\n",
      "Mark\tNo\n",
      "Leslie\tYes\n",
      "Rachel\tNo\n",
      "Olivia\tNo\n",
      "Chelsea\tNo\n"
     ]
    }
   ],
   "source": [
    "#strip white space\n",
    "for person in contents:\n",
    "    print(person.rstrip())    "
   ]
  },
  {
   "cell_type": "code",
   "execution_count": 3,
   "metadata": {},
   "outputs": [
    {
     "name": "stdout",
     "output_type": "stream",
     "text": [
      "['Person', 'Fred', 'Jamie', 'Shelly', 'Eileen', 'Willard', 'Mike', 'Anna', 'Marie', 'Marian', 'Jessica', 'Alan', 'Rebecca', 'Bonnie', 'Mark', 'Leslie', 'Rachel', 'Olivia', 'Chelsea']\n",
      "['Vegetarian', 'No', 'No', 'Yes', 'No', 'Yes', 'Sometimes', 'No', 'Yes', 'Sometimes', 'No', 'No', 'No', 'No', 'No', 'Yes', 'No', 'No', 'No']\n"
     ]
    }
   ],
   "source": [
    "#make two empty lists. one with guest names and one with meal option\n",
    "guest_name=[]\n",
    "guest_option=[]\n",
    "\n",
    "for person in contents:\n",
    "#remove \\n charaters\n",
    "    strip_list=person.rstrip()\n",
    "#remove tab charaters\n",
    "    split_list=strip_list.split('\\t')\n",
    "# append first split to guest_name\n",
    "    guest_name.append(split_list[0])\n",
    "# append second split to guest_option\n",
    "    guest_option.append(split_list[1])\n",
    "    \n",
    "print(guest_name)\n",
    "print(guest_option)"
   ]
  },
  {
   "cell_type": "code",
   "execution_count": 4,
   "metadata": {
    "scrolled": false
   },
   "outputs": [
    {
     "name": "stdout",
     "output_type": "stream",
     "text": [
      "14 people will be eating turkey.\n"
     ]
    }
   ],
   "source": [
    "#who is eating crow?\n",
    "#make empty list for turkey eaters\n",
    "turkey_eaters=[]\n",
    "\n",
    "for option in guest_option:\n",
    "    if option== 'No' or option== 'Sometimes':\n",
    "        turkey_eaters.append(option)\n",
    "#count number of ppl eating bird\n",
    "len(turkey_eaters)\n",
    "max=len(turkey_eaters)\n",
    "print(max, \"people will be eating turkey.\")"
   ]
  },
  {
   "cell_type": "markdown",
   "metadata": {},
   "source": [
    "# Question 2. How much bird to buy?"
   ]
  },
  {
   "cell_type": "code",
   "execution_count": 5,
   "metadata": {},
   "outputs": [
    {
     "name": "stdout",
     "output_type": "stream",
     "text": [
      "['Max_Guests\\tMin_Pounds\\n', '4\\t5\\n', '6\\t8\\n', '8\\t10\\n', '10\\t13\\n', '12\\t15\\n', '15\\t20\\n', '20\\t25\\n', 'Larry\\tNo\\n', 'Moe\\tYes\\n', 'Curly\\tSometimes\\n', 'Larry\\tNo\\n', 'Moe\\tYes\\n', 'Curly\\tSometimes\\n', 'Larry\\tNo\\n', 'Moe\\tYes\\n', 'Curly\\tSometimes\\n', 'Larry\\tNo\\n', 'Moe\\tYes\\n', 'Curly\\tSometimes\\n']\n"
     ]
    }
   ],
   "source": [
    "filename = \"turkey_size.txt\"\n",
    "with open(filename) as file_object:\n",
    "    contents = file_object.readlines()\n",
    "print(contents)"
   ]
  },
  {
   "cell_type": "code",
   "execution_count": 6,
   "metadata": {},
   "outputs": [
    {
     "name": "stdout",
     "output_type": "stream",
     "text": [
      "Max_Guests\tMin_Pounds\n",
      "4\t5\n",
      "6\t8\n",
      "8\t10\n",
      "10\t13\n",
      "12\t15\n",
      "15\t20\n",
      "20\t25\n",
      "Larry\tNo\n",
      "Moe\tYes\n",
      "Curly\tSometimes\n",
      "Larry\tNo\n",
      "Moe\tYes\n",
      "Curly\tSometimes\n",
      "Larry\tNo\n",
      "Moe\tYes\n",
      "Curly\tSometimes\n",
      "Larry\tNo\n",
      "Moe\tYes\n",
      "Curly\tSometimes\n"
     ]
    }
   ],
   "source": [
    "#strip white space\n",
    "for poundage in contents:\n",
    "    print(poundage.rstrip())"
   ]
  },
  {
   "cell_type": "code",
   "execution_count": 7,
   "metadata": {},
   "outputs": [
    {
     "name": "stdout",
     "output_type": "stream",
     "text": [
      "['Max_Guests', '4', '6', '8', '10', '12', '15', '20', 'Larry', 'Moe', 'Curly', 'Larry', 'Moe', 'Curly', 'Larry', 'Moe', 'Curly', 'Larry', 'Moe', 'Curly']\n",
      "['Min_Pounds', '5', '8', '10', '13', '15', '20', '25', 'No', 'Yes', 'Sometimes', 'No', 'Yes', 'Sometimes', 'No', 'Yes', 'Sometimes', 'No', 'Yes', 'Sometimes']\n"
     ]
    }
   ],
   "source": [
    "max_guests=[]\n",
    "min_lbs=[]\n",
    "\n",
    "for poundage in contents:\n",
    "#remove \\n charaters\n",
    "    strip_list=poundage.rstrip()\n",
    "#remove tab charaters\n",
    "    split_list=strip_list.split('\\t')\n",
    "# append first split to max_guests\n",
    "    max_guests.append(split_list[0])\n",
    "# append second split to min_lbs\n",
    "    min_lbs.append(split_list[1])\n",
    "    \n",
    "print(max_guests)\n",
    "print(min_lbs)"
   ]
  },
  {
   "cell_type": "code",
   "execution_count": 8,
   "metadata": {},
   "outputs": [
    {
     "name": "stdout",
     "output_type": "stream",
     "text": [
      "['4', '6', '8', '10', '12', '15', '20', 'Larry', 'Moe', 'Curly', 'Larry', 'Moe', 'Curly', 'Larry', 'Moe', 'Curly', 'Larry', 'Moe', 'Curly']\n",
      "['5', '8', '10', '13', '15', '20', '25', 'No', 'Yes', 'Sometimes', 'No', 'Yes', 'Sometimes', 'No', 'Yes', 'Sometimes', 'No', 'Yes', 'Sometimes']\n"
     ]
    }
   ],
   "source": [
    "#remove headers\n",
    "max_guests.pop(0)\n",
    "min_lbs.pop(0)\n",
    "print(max_guests)\n",
    "print(min_lbs)"
   ]
  },
  {
   "cell_type": "code",
   "execution_count": 9,
   "metadata": {},
   "outputs": [
    {
     "ename": "ValueError",
     "evalue": "invalid literal for int() with base 10: 'Larry'",
     "output_type": "error",
     "traceback": [
      "\u001b[1;31m---------------------------------------------------------------------------\u001b[0m",
      "\u001b[1;31mValueError\u001b[0m                                Traceback (most recent call last)",
      "\u001b[1;32m<ipython-input-9-cb2cc1f3c72c>\u001b[0m in \u001b[0;36m<module>\u001b[1;34m\u001b[0m\n\u001b[0;32m      1\u001b[0m \u001b[0mturkey_order\u001b[0m\u001b[1;33m=\u001b[0m\u001b[1;33m[\u001b[0m\u001b[1;33m]\u001b[0m\u001b[1;33m\u001b[0m\u001b[1;33m\u001b[0m\u001b[0m\n\u001b[0;32m      2\u001b[0m \u001b[1;32mfor\u001b[0m \u001b[0mindex\u001b[0m \u001b[1;32min\u001b[0m \u001b[0mrange\u001b[0m\u001b[1;33m(\u001b[0m\u001b[1;36m0\u001b[0m\u001b[1;33m,\u001b[0m \u001b[0mlen\u001b[0m\u001b[1;33m(\u001b[0m\u001b[0mmin_lbs\u001b[0m\u001b[1;33m)\u001b[0m\u001b[1;33m)\u001b[0m\u001b[1;33m:\u001b[0m\u001b[1;33m\u001b[0m\u001b[1;33m\u001b[0m\u001b[0m\n\u001b[1;32m----> 3\u001b[1;33m     \u001b[1;32mif\u001b[0m \u001b[0mint\u001b[0m\u001b[1;33m(\u001b[0m\u001b[0mmax_guests\u001b[0m\u001b[1;33m[\u001b[0m\u001b[0mindex\u001b[0m\u001b[1;33m]\u001b[0m\u001b[1;33m)\u001b[0m \u001b[1;33m>\u001b[0m \u001b[0mmax\u001b[0m\u001b[1;33m:\u001b[0m\u001b[1;33m\u001b[0m\u001b[1;33m\u001b[0m\u001b[0m\n\u001b[0m\u001b[0;32m      4\u001b[0m         \u001b[0mturkey_order\u001b[0m\u001b[1;33m.\u001b[0m\u001b[0mappend\u001b[0m\u001b[1;33m(\u001b[0m\u001b[0mmin_lbs\u001b[0m\u001b[1;33m[\u001b[0m\u001b[0mindex\u001b[0m\u001b[1;33m]\u001b[0m\u001b[1;33m)\u001b[0m\u001b[1;33m\u001b[0m\u001b[1;33m\u001b[0m\u001b[0m\n\u001b[0;32m      5\u001b[0m \u001b[0mprint\u001b[0m\u001b[1;33m(\u001b[0m\u001b[1;34m\"Lets buy a\"\u001b[0m\u001b[1;33m,\u001b[0m \u001b[0mturkey_order\u001b[0m\u001b[1;33m[\u001b[0m\u001b[1;36m0\u001b[0m\u001b[1;33m]\u001b[0m\u001b[1;33m,\u001b[0m \u001b[1;34m\"lb turkey!\"\u001b[0m\u001b[1;33m)\u001b[0m\u001b[1;33m\u001b[0m\u001b[1;33m\u001b[0m\u001b[0m\n",
      "\u001b[1;31mValueError\u001b[0m: invalid literal for int() with base 10: 'Larry'"
     ]
    }
   ],
   "source": [
    "turkey_order=[]\n",
    "for index in range(0, len(min_lbs)):\n",
    "    if int(max_guests[index]) > max:\n",
    "        turkey_order.append(min_lbs[index])\n",
    "print(\"Lets buy a\", turkey_order[0], \"lb turkey!\")"
   ]
  },
  {
   "cell_type": "markdown",
   "metadata": {},
   "source": [
    "# Question 3. We have some late arrivals (jerks)!"
   ]
  },
  {
   "cell_type": "code",
   "execution_count": null,
   "metadata": {},
   "outputs": [],
   "source": [
    "#make statement about accepting late guests even though they are rude.\n",
    "print(\"WTH would I let the stooges come late? My turkeys been brining for hours.\")\n",
    "#Append written late rsvps to original guest list \n",
    "newrsvps=open(filename, 'a')\n",
    "latersvps=['Larry\\tNo\\n','Moe\\tYes\\n','Curly\\tSometimes\\n']\n",
    "newrsvps.writelines(latersvps)\n",
    "\n",
    "with open(filename) as file_object:\n",
    "    contents=file_object.readlines()"
   ]
  },
  {
   "cell_type": "code",
   "execution_count": null,
   "metadata": {},
   "outputs": [],
   "source": [
    "#make new guest lists with late rsvps\n",
    "guest_name_recount=[]\n",
    "guest_option_recount=[]\n",
    "\n",
    "for person in contents:\n",
    "#remove \\n charaters\n",
    "    strip_list=person.rstrip()\n",
    "#remove tab charaters\n",
    "    split_list=strip_list.split('\\t')\n",
    "# append first split to guest_name\n",
    "    guest_name_recount.append(split_list[0])\n",
    "# append second split to guest_option\n",
    "    guest_option_recount.append(split_list[1])\n",
    "#count number of people eating turkey \n",
    "turkey_eaters=[]\n",
    "\n",
    "for option in guest_option_recount:\n",
    "    if option== 'No' or option== 'Sometimes':\n",
    "        turkey_eaters.append(option)\n",
    "#count number of ppl eating bird\n",
    "len(turkey_eaters)\n",
    "max=len(turkey_eaters)\n",
    "print(max, \"people will be eating turkey.\")\n",
    "\n",
    "#based on previous lb list determine turkey size.\n",
    "turkey_order=[]\n",
    "for index in range(0, len(min_lbs)):\n",
    "    if int(max_guests[index]) > max:\n",
    "        turkey_order.append(min_lbs[index])\n",
    "print(\"Lets buy a\", turkey_order[0], \"lb turkey! And any more late rsvpers will have to eat cat food.\")"
   ]
  }
 ],
 "metadata": {
  "kernelspec": {
   "display_name": "Python 3",
   "language": "python",
   "name": "python3"
  },
  "language_info": {
   "codemirror_mode": {
    "name": "ipython",
    "version": 3
   },
   "file_extension": ".py",
   "mimetype": "text/x-python",
   "name": "python",
   "nbconvert_exporter": "python",
   "pygments_lexer": "ipython3",
   "version": "3.8.3"
  }
 },
 "nbformat": 4,
 "nbformat_minor": 4
}
